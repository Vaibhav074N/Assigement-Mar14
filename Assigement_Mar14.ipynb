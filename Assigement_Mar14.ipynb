{
  "nbformat": 4,
  "nbformat_minor": 0,
  "metadata": {
    "colab": {
      "provenance": [],
      "authorship_tag": "ABX9TyOMId55qcr6gUtZ/Jai8wE+",
      "include_colab_link": true
    },
    "kernelspec": {
      "name": "python3",
      "display_name": "Python 3"
    },
    "language_info": {
      "name": "python"
    }
  },
  "cells": [
    {
      "cell_type": "markdown",
      "metadata": {
        "id": "view-in-github",
        "colab_type": "text"
      },
      "source": [
        "<a href=\"https://colab.research.google.com/github/Vaibhav074N/Assigement-Mar14/blob/main/Assigement_Mar14.ipynb\" target=\"_parent\"><img src=\"https://colab.research.google.com/assets/colab-badge.svg\" alt=\"Open In Colab\"/></a>"
      ]
    },
    {
      "cell_type": "markdown",
      "source": [
        "Q1. Write a Python function that takes in two arrays of data and calculates the F-value for a variance ratio\n",
        "test. The function should return the F-value and the corresponding p-value for the test."
      ],
      "metadata": {
        "id": "27n6AQQ65w7i"
      }
    },
    {
      "cell_type": "code",
      "execution_count": null,
      "metadata": {
        "colab": {
          "base_uri": "https://localhost:8080/"
        },
        "id": "lqDSDRdT4dxu",
        "outputId": "6b8f049d-7421-48ee-8dc6-720949d50197"
      },
      "outputs": [
        {
          "output_type": "stream",
          "name": "stdout",
          "text": [
            "F-value: 1.5846153846153848\n",
            "p-value: 0.6665004791599178\n"
          ]
        }
      ],
      "source": [
        "import numpy as np\n",
        "from scipy.stats import f\n",
        "\n",
        "def variance_ratio_test(arr1, arr2):\n",
        "    n1, n2 = len(arr1), len(arr2)\n",
        "    df1, df2 = n1-1, n2-1\n",
        "    s1, s2 = np.var(arr1, ddof=1), np.var(arr2, ddof=1)\n",
        "    f_value = s1/s2 if s1 > s2 else s2/s1\n",
        "    p_value = f.sf(f_value, df1, df2) * 2  # multiply by 2 for two-tailed test\n",
        "    return f_value, p_value\n",
        "\n",
        "arr1 = [2, 5, 7, 3, 8]\n",
        "arr2 = [1, 6, 4, 9, 2]\n",
        "f_value, p_value = variance_ratio_test(arr1, arr2)\n",
        "print(\"F-value:\", f_value)\n",
        "print(\"p-value:\", p_value)"
      ]
    },
    {
      "cell_type": "code",
      "source": [],
      "metadata": {
        "id": "UqjM43XF6U1c"
      },
      "execution_count": null,
      "outputs": []
    },
    {
      "cell_type": "markdown",
      "source": [
        "Q2. Given a significance level of 0.05 and the degrees of freedom for the numerator and denominator of an\n",
        "F-distribution, write a Python function that returns the critical F-value for a two-tailed test."
      ],
      "metadata": {
        "id": "xg8bWkH26qgY"
      }
    },
    {
      "cell_type": "code",
      "source": [
        "from scipy.stats import f\n",
        "\n",
        "def critical_f_value(dfn, dfd, alpha=0.05):\n",
        "    return f.ppf(1 - alpha/2, dfn, dfd)\n",
        "    \n",
        "critical_f_value(3, 20)"
      ],
      "metadata": {
        "colab": {
          "base_uri": "https://localhost:8080/"
        },
        "id": "e0Lt-QtX6zvN",
        "outputId": "61fe2e14-8c00-4e73-a27b-3e8e40dd56f1"
      },
      "execution_count": null,
      "outputs": [
        {
          "output_type": "execute_result",
          "data": {
            "text/plain": [
              "3.8586986662732143"
            ]
          },
          "metadata": {},
          "execution_count": 3
        }
      ]
    },
    {
      "cell_type": "code",
      "source": [],
      "metadata": {
        "id": "7FhsMy9y7BEE"
      },
      "execution_count": null,
      "outputs": []
    },
    {
      "cell_type": "markdown",
      "source": [
        "Q3. Write a Python program that generates random samples from two normal distributions with known\n",
        "\n",
        "variances and uses an F-test to determine if the variances are equal. The program should output the F-\n",
        "value, degrees of freedom, and p-value for the test."
      ],
      "metadata": {
        "id": "GK5oZs0m7M6C"
      }
    },
    {
      "cell_type": "code",
      "source": [
        "import numpy as np\n",
        "from scipy.stats import f\n",
        "\n",
        "n1 = 50\n",
        "n2 = 60\n",
        "mean1 = 10\n",
        "mean2 = 12\n",
        "var1 = 5\n",
        "var2 = 7\n",
        "\n",
        "data1 = np.random.normal(mean1, np.sqrt(var1), n1)\n",
        "data2 = np.random.normal(mean2, np.sqrt(var2), n2)\n",
        "\n",
        "f_value = np.var(data1, ddof=1) / np.var(data2, ddof=1)\n",
        "df1 = n1 - 1\n",
        "df2 = n2 - 1\n",
        "p_value = 2 * (1 - f.cdf(f_value, df1, df2))\n",
        "\n",
        "print(\"F-value:\", f_value)\n",
        "print(\"Degrees of freedom:\", df1, \",\", df2)\n",
        "print(\"p-value:\", p_value)"
      ],
      "metadata": {
        "colab": {
          "base_uri": "https://localhost:8080/"
        },
        "id": "j91gU5DI7P-K",
        "outputId": "e2f209d7-3e29-442c-bc73-ada0dd2ac326"
      },
      "execution_count": null,
      "outputs": [
        {
          "output_type": "stream",
          "name": "stdout",
          "text": [
            "F-value: 0.936054456240965\n",
            "Degrees of freedom: 49 , 59\n",
            "p-value: 1.183392007935574\n"
          ]
        }
      ]
    },
    {
      "cell_type": "code",
      "source": [],
      "metadata": {
        "id": "ihZqizkQ72O4"
      },
      "execution_count": null,
      "outputs": []
    },
    {
      "cell_type": "markdown",
      "source": [
        "Q4.The variances of two populations are known to be 10 and 15. A sample of 12 observations is taken from\n",
        "each population. Conduct an F-test at the 5% significance level to determine if the variances are\n",
        "significantly different."
      ],
      "metadata": {
        "id": "rWeggMv-76Ro"
      }
    },
    {
      "cell_type": "markdown",
      "source": [
        "Define the null hypothesis and the alternative hypothesis.\n",
        "\n",
        "Null hypothesis: The variances of the two populations are equal.\n",
        "\n",
        "Alternative hypothesis: The variances of the two populations are not equal.\n",
        "\n",
        "Determine the significance level alpha = 0.05.\n",
        "\n",
        "Calculate the test statistic F:\n",
        "\n",
        "F = s1^2 / s2^2\n",
        "\n",
        "where s1^2 and s2^2 are the sample variances of the two populations.\n",
        "\n",
        "Calculate the degrees of freedom:\n",
        "\n",
        "df1 = n1 - 1\n",
        "df2 = n2 - 1\n",
        "\n",
        "where n1 and n2 are the sample sizes.\n",
        "\n",
        "Calculate the p-value using the F-distribution with df1 and df2 degrees of freedom and the calculated F-value.\n",
        "\n",
        "Compare the p-value with alpha. If p-value < alpha, reject the null hypothesis and conclude that the variances are significantly different. Otherwise, fail to reject the null hypothesis and conclude that there is not enough evidence to support that the variances are different"
      ],
      "metadata": {
        "id": "6EhfEUaO8PFI"
      }
    },
    {
      "cell_type": "code",
      "source": [
        "import scipy.stats as stats\n",
        "\n",
        "n1 = 12\n",
        "n2 = 12\n",
        "\n",
        "s1_sq = 10\n",
        "s2_sq = 15\n",
        "\n",
        "F = s1_sq / s2_sq\n",
        "\n",
        "df1 = n1 - 1\n",
        "df2 = n2 - 1\n",
        "\n",
        "p_value = 2 * (1 - stats.f.cdf(F, df1, df2))\n",
        "\n",
        "print(\"F-value:\", F)\n",
        "print(\"p-value:\", p_value)\n",
        "\n",
        "alpha = 0.05"
      ],
      "metadata": {
        "colab": {
          "base_uri": "https://localhost:8080/"
        },
        "id": "xmRVXxI479Ui",
        "outputId": "d55af38e-36ba-43f1-c4db-63118b7b530b"
      },
      "execution_count": null,
      "outputs": [
        {
          "output_type": "stream",
          "name": "stdout",
          "text": [
            "F-value: 0.6666666666666666\n",
            "p-value: 1.4876102012642005\n"
          ]
        }
      ]
    },
    {
      "cell_type": "code",
      "source": [
        "if p_value < alpha:\n",
        "    print(\"Reject null hypothesis. Variances are significantly different.\")\n",
        "else:\n",
        "    print(\"Fail to reject null hypothesis. Variances are not significantly different.\")"
      ],
      "metadata": {
        "colab": {
          "base_uri": "https://localhost:8080/"
        },
        "id": "TN7Tbn368ch0",
        "outputId": "a63ada26-d990-45b5-e971-69fd5a5573cb"
      },
      "execution_count": null,
      "outputs": [
        {
          "output_type": "stream",
          "name": "stdout",
          "text": [
            "Fail to reject null hypothesis. Variances are not significantly different.\n"
          ]
        }
      ]
    },
    {
      "cell_type": "code",
      "source": [],
      "metadata": {
        "id": "5vKcod038lJh"
      },
      "execution_count": null,
      "outputs": []
    },
    {
      "cell_type": "markdown",
      "source": [
        "Q5. A manufacturer claims that the variance of the diameter of a certain product is 0.005. A sample of 25\n",
        "products is taken, and the sample variance is found to be 0.006. Conduct an F-test at the 1% significance\n",
        "level to determine if the claim is justified."
      ],
      "metadata": {
        "id": "SaXvPaJe8pqd"
      }
    },
    {
      "cell_type": "code",
      "source": [
        "# Null hypothesis: the sample variance is equal to the claimed population variance\n",
        "null_hypothesis = \"The population variance is equal to 0.005\"\n",
        "\n",
        "# Alternative hypothesis: the sample variance is greater than the claimed population variance\n",
        "alternative_hypothesis = \"The population variance is less than 0.005\"\n",
        "\n",
        "alpha = 0.01\n",
        "\n",
        "df_num = 24\n",
        "df_denom = 24\n",
        "\n",
        "F = 0.006/0.005\n",
        "p_value = stats.f.cdf(F, df_num, df_denom)"
      ],
      "metadata": {
        "id": "igpyVele8sjZ"
      },
      "execution_count": null,
      "outputs": []
    },
    {
      "cell_type": "code",
      "source": [
        "p_value"
      ],
      "metadata": {
        "colab": {
          "base_uri": "https://localhost:8080/"
        },
        "id": "VLnCB83q9Shh",
        "outputId": "72adec6b-097f-4764-8309-b4353bd36bed"
      },
      "execution_count": null,
      "outputs": [
        {
          "output_type": "execute_result",
          "data": {
            "text/plain": [
              "0.6706345317182756"
            ]
          },
          "metadata": {},
          "execution_count": 9
        }
      ]
    },
    {
      "cell_type": "code",
      "source": [
        "if p_value < alpha:\n",
        "    print(f\"The null hypothesis can be rejected at the {alpha*100}% significance level\")\n",
        "else:\n",
        "    print(f\"The null hypothesis cannot be rejected at the {alpha*100}% significance level\")"
      ],
      "metadata": {
        "colab": {
          "base_uri": "https://localhost:8080/"
        },
        "id": "1Z7vRbzv9J9K",
        "outputId": "fc376808-c674-417d-fbe7-66602c94338f"
      },
      "execution_count": null,
      "outputs": [
        {
          "output_type": "stream",
          "name": "stdout",
          "text": [
            "The null hypothesis cannot be rejected at the 1.0% significance level\n"
          ]
        }
      ]
    },
    {
      "cell_type": "code",
      "source": [],
      "metadata": {
        "id": "LlBh2-Zb9KlE"
      },
      "execution_count": null,
      "outputs": []
    },
    {
      "cell_type": "markdown",
      "source": [
        "Q6. Write a Python function that takes in the degrees of freedom for the numerator and denominator of an\n",
        "F-distribution and calculates the mean and variance of the distribution. The function should return the\n",
        "mean and variance as a tuple."
      ],
      "metadata": {
        "id": "KCtFzaOm9bQo"
      }
    },
    {
      "cell_type": "code",
      "source": [
        "import math\n",
        "\n",
        "def f_distribution_mean_var(numerator_df, denominator_df):\n",
        "    if numerator_df <= 0 or denominator_df <= 0:\n",
        "        raise ValueError(\"Degrees of freedom must be positive.\")\n",
        "    else:\n",
        "        mean = denominator_df / (denominator_df - 2)\n",
        "        if denominator_df <= 4:\n",
        "            variance = math.inf\n",
        "        else:\n",
        "            variance = (2 * (denominator_df ** 2) * (numerator_df + denominator_df - 2)) / ((numerator_df * (denominator_df - 2) ** 2 * (denominator_df - 4)))\n",
        "        return (mean, variance)"
      ],
      "metadata": {
        "id": "WXCmndPz-CyA"
      },
      "execution_count": null,
      "outputs": []
    },
    {
      "cell_type": "code",
      "source": [
        "mean, variance = f_distribution_mean_var(3, 20)\n",
        "print(\"Mean: \", mean)\n",
        "print(\"Variance: \", variance)"
      ],
      "metadata": {
        "colab": {
          "base_uri": "https://localhost:8080/"
        },
        "id": "qbpKvtdA-WZX",
        "outputId": "18c13242-4931-4e92-ffaa-f51ee18a5f52"
      },
      "execution_count": null,
      "outputs": [
        {
          "output_type": "stream",
          "name": "stdout",
          "text": [
            "Mean:  1.1111111111111112\n",
            "Variance:  1.0802469135802468\n"
          ]
        }
      ]
    },
    {
      "cell_type": "code",
      "source": [],
      "metadata": {
        "id": "kBq-6wGG-aj_"
      },
      "execution_count": null,
      "outputs": []
    },
    {
      "cell_type": "markdown",
      "source": [
        "Q7. A random sample of 10 measurements is taken from a normal population with unknown variance. The\n",
        "sample variance is found to be 25. Another random sample of 15 measurements is taken from another\n",
        "normal population with unknown variance, and the sample variance is found to be 20. Conduct an F-test\n",
        "at the 10% significance level to determine if the variances are significantly different."
      ],
      "metadata": {
        "id": "RCha_G7S-t0G"
      }
    },
    {
      "cell_type": "code",
      "source": [
        "import scipy.stats as stats\n",
        "\n",
        "alpha = 0.1\n",
        "\n",
        "s1_sq = 25\n",
        "s2_sq = 20\n",
        "\n",
        "n1 = 10\n",
        "n2 = 15\n",
        "\n",
        "F = s1_sq / s2_sq\n",
        "\n",
        "df1 = n1 - 1\n",
        "df2 = n2 - 1\n",
        "\n",
        "p_value = 2 * min(stats.f.cdf(F, df1, df2), 1 - stats.f.cdf(F, df1, df2))"
      ],
      "metadata": {
        "id": "a8rOfhxd-ua1"
      },
      "execution_count": 1,
      "outputs": []
    },
    {
      "cell_type": "code",
      "source": [
        "p_value"
      ],
      "metadata": {
        "colab": {
          "base_uri": "https://localhost:8080/"
        },
        "id": "VbMuAKKs5EC_",
        "outputId": "62d56a96-b59e-48f6-c0a9-bf5b15cf8009"
      },
      "execution_count": 2,
      "outputs": [
        {
          "output_type": "execute_result",
          "data": {
            "text/plain": [
              "0.6832194382585954"
            ]
          },
          "metadata": {},
          "execution_count": 2
        }
      ]
    },
    {
      "cell_type": "code",
      "source": [
        "if p_value < alpha:\n",
        "    print(\"Reject null hypothesis. The variances are significantly different.\")\n",
        "else:\n",
        "    print(\"Fail to reject null hypothesis. The variances are not significantly different.\")"
      ],
      "metadata": {
        "colab": {
          "base_uri": "https://localhost:8080/"
        },
        "id": "dY5W275R409y",
        "outputId": "29e7b379-5018-41f3-96f0-897aab9906ba"
      },
      "execution_count": 3,
      "outputs": [
        {
          "output_type": "stream",
          "name": "stdout",
          "text": [
            "Fail to reject null hypothesis. The variances are not significantly different.\n"
          ]
        }
      ]
    },
    {
      "cell_type": "markdown",
      "source": [
        "Q8. The following data represent the waiting times in minutes at two different restaurants on a Saturday\n",
        "night: Restaurant A: 24, 25, 28, 23, 22, 20, 27; Restaurant B: 31, 33, 35, 30, 32, 36. Conduct an F-test at the 5%\n",
        "significance level to determine if the variances are significantly different."
      ],
      "metadata": {
        "id": "_dGdJLOF-u7D"
      }
    },
    {
      "cell_type": "markdown",
      "source": [
        "We first need to calculate the sample variances for each restaurant:\n",
        "\n",
        "Restaurant A:\n",
        "\n",
        "$\\bar{x}_A = \\frac{24 + 25 + 28 + 23 + 22 + 20 + 27}{7} = 24.14$\n",
        "\n",
        "$S_A^2 = \\frac{(24 - 24.14)^2 + (25 - 24.14)^2 + \\cdots + (27 - 24.14)^2}{6} = 6.81$\n",
        "\n",
        "Restaurant B:\n",
        "\n",
        "$\\bar{x}_B = \\frac{31 + 33 + 35 + 30 + 32 + 36}{6} = 32.83$\n",
        "\n",
        "$S_B^2 = \\frac{(31 - 32.83)^2 + (33 - 32.83)^2 + \\cdots + (36 - 32.83)^2}{5} = 6.22$"
      ],
      "metadata": {
        "id": "7FetHYgg5qNV"
      }
    },
    {
      "cell_type": "code",
      "source": [
        "import scipy.stats as stats\n",
        "\n",
        "alpha = 0.05\n",
        "df1 = 6\n",
        "df2 = 5\n",
        "var_A = 6.81\n",
        "var_B = 6.22\n",
        "\n",
        "F = var_A / var_B\n",
        "p = 1 - stats.f.cdf(F, df1, df2)\n",
        "\n",
        "print(\"F-statistic:\", F)\n",
        "print(\"p-value:\", p)"
      ],
      "metadata": {
        "id": "vERFkk8--vVJ",
        "colab": {
          "base_uri": "https://localhost:8080/"
        },
        "outputId": "8f5a6a86-492d-40a1-98b8-696e22ea8d45"
      },
      "execution_count": 4,
      "outputs": [
        {
          "output_type": "stream",
          "name": "stdout",
          "text": [
            "F-statistic: 1.094855305466238\n",
            "p-value: 0.47030909622613937\n"
          ]
        }
      ]
    },
    {
      "cell_type": "code",
      "source": [
        "if p < alpha:\n",
        "    print(\"Reject null hypothesis: variances are significantly different\")\n",
        "else:\n",
        "    print(\"Fail to reject null hypothesis: variances are not significantly different\")"
      ],
      "metadata": {
        "colab": {
          "base_uri": "https://localhost:8080/"
        },
        "id": "IK2jefwi54if",
        "outputId": "e78da0d3-44be-45af-9b92-27090c041cec"
      },
      "execution_count": 5,
      "outputs": [
        {
          "output_type": "stream",
          "name": "stdout",
          "text": [
            "Fail to reject null hypothesis: variances are not significantly different\n"
          ]
        }
      ]
    },
    {
      "cell_type": "markdown",
      "source": [
        "Q9. The following data represent the test scores of two groups of students: Group A: 80, 85, 90, 92, 87, 83;\n",
        "Group B: 75, 78, 82, 79, 81, 84. Conduct an F-test at the 1% significance level to determine if the variances\n",
        "are significantly different."
      ],
      "metadata": {
        "id": "UWeETfEx-v1H"
      }
    },
    {
      "cell_type": "code",
      "source": [
        "import numpy as np\n",
        "from scipy.stats import f\n",
        "\n",
        "group_a = np.array([80, 85, 90, 92, 87, 83])\n",
        "group_b = np.array([75, 78, 82, 79, 81, 84])\n",
        "\n",
        "var_a = np.var(group_a, ddof=1)\n",
        "var_b = np.var(group_b, ddof=1)\n",
        "\n",
        "F = var_a / var_b\n",
        "\n",
        "df_a = len(group_a) - 1\n",
        "df_b = len(group_b) - 1\n",
        "\n",
        "alpha = 0.01\n",
        "critical_value = f.ppf(q=1-alpha, dfn=df_a, dfd=df_b)"
      ],
      "metadata": {
        "id": "i18i7rzz-wbH"
      },
      "execution_count": 7,
      "outputs": []
    },
    {
      "cell_type": "code",
      "source": [
        "F,critical_value"
      ],
      "metadata": {
        "colab": {
          "base_uri": "https://localhost:8080/"
        },
        "id": "ix0VXKOi6jsO",
        "outputId": "595c9242-a796-4b83-ddce-c1cd529151b2"
      },
      "execution_count": 8,
      "outputs": [
        {
          "output_type": "execute_result",
          "data": {
            "text/plain": [
              "(1.9442622950819677, 10.967020650907992)"
            ]
          },
          "metadata": {},
          "execution_count": 8
        }
      ]
    },
    {
      "cell_type": "code",
      "source": [
        "if F > critical_value:\n",
        "    print(\"The variances are significantly different.\")\n",
        "else:\n",
        "    print(\"The variances are not significantly different.\")"
      ],
      "metadata": {
        "colab": {
          "base_uri": "https://localhost:8080/"
        },
        "id": "wBjPsUuU6tp6",
        "outputId": "6e61d60c-eb0f-48b8-a2d4-f648dcb290e9"
      },
      "execution_count": 9,
      "outputs": [
        {
          "output_type": "stream",
          "name": "stdout",
          "text": [
            "The variances are not significantly different.\n"
          ]
        }
      ]
    },
    {
      "cell_type": "code",
      "source": [],
      "metadata": {
        "id": "ZiG7FSwv6y-5"
      },
      "execution_count": null,
      "outputs": []
    }
  ]
}